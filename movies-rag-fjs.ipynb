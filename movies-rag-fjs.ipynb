{
 "cells": [
  {
   "cell_type": "code",
   "execution_count": 1,
   "id": "b85f6fb0-052f-41b8-93f7-e4b71fdddfe1",
   "metadata": {},
   "outputs": [
    {
     "name": "stderr",
     "output_type": "stream",
     "text": [
      "/Library/Frameworks/Python.framework/Versions/3.11/lib/python3.11/site-packages/tqdm/auto.py:21: TqdmWarning: IProgress not found. Please update jupyter and ipywidgets. See https://ipywidgets.readthedocs.io/en/stable/user_install.html\n",
      "  from .autonotebook import tqdm as notebook_tqdm\n"
     ]
    }
   ],
   "source": [
    "import pandas as pd\n",
    "import faiss\n",
    "import openai\n",
    "import streamlit as st\n",
    "import numpy as np\n",
    "import logging\n",
    "import os\n",
    "from sentence_transformers import SentenceTransformer\n",
    "from sklearn.preprocessing import normalize\n",
    "openai.api_key = os.getenv(\"OPENAI_API_KEY\")"
   ]
  },
  {
   "cell_type": "code",
   "execution_count": null,
   "id": "e7f25c04-43f9-4f6e-ae7f-ff4df003fe34",
   "metadata": {},
   "outputs": [],
   "source": [
    "names = pd.read_table(\"/Users/jhajsidhu/Downloads/imdb_data/name.basics.tsv\", low_memory = False, encoding_errors = \"ignore\")\n",
    "basics = pd.read_table(\"/Users/jhajsidhu/Downloads/imdb_data/title.basics.tsv\", low_memory = False, encoding_errors = \"ignore\")\n",
    "crews = pd.read_table(\"/Users/jhajsidhu/Downloads/imdb_data/title.crew.tsv\", low_memory = False, encoding_errors = \"ignore\")\n",
    "principals = pd.read_table(\"/Users/jhajsidhu/Downloads/imdb_data/title.principals.tsv\", low_memory = False, encoding_errors = \"ignore\")\n",
    "ratings = pd.read_table(\"/Users/jhajsidhu/Downloads/imdb_data/title.ratings.tsv\", low_memory = False, encoding_errors = \"ignore\")"
   ]
  },
  {
   "cell_type": "code",
   "execution_count": null,
   "id": "2d237b15-2d97-4bda-b9dc-b2c8244ebae3",
   "metadata": {},
   "outputs": [],
   "source": [
    "names = names.drop_duplicates(subset = \"nconst\")\n",
    "basics = basics.drop_duplicates(subset = \"tconst\")\n",
    "crews = crews.drop_duplicates(subset = \"tconst\")\n",
    "principals = principals.drop_duplicates(subset = \"tconst\")\n",
    "ratings = ratings.drop_duplicates(subset = \"tconst\")"
   ]
  },
  {
   "cell_type": "code",
   "execution_count": null,
   "id": "42385a5b-98a3-4f94-9666-8c4e11f4f6c9",
   "metadata": {},
   "outputs": [],
   "source": [
    "names = names.replace(\"\\\\N\", np.nan)\n",
    "names_columns = [\"nconst\", \"primaryName\", \"birthYear\", \"deathYear\", \"primaryProfession\"]\n",
    "names = names[names_columns]\n",
    "names[\"birthYear\"] = pd.to_numeric(names[\"birthYear\"], errors = \"coerce\").astype(\"Int64\")\n",
    "names[\"deathYear\"] = pd.to_numeric(names[\"deathYear\"], errors = \"coerce\").astype(\"Int64\")\n",
    "names = names.dropna(subset = [\"nconst\", \"primaryName\", \"birthYear\", \"deathYear\"])\n",
    "print(names.head())"
   ]
  },
  {
   "cell_type": "code",
   "execution_count": null,
   "id": "e6920979-efb2-4e98-9318-dc6fc4183406",
   "metadata": {},
   "outputs": [],
   "source": [
    "basics = basics.replace(\"\\\\N\", np.nan)\n",
    "basics_columns = [\"tconst\", \"primaryTitle\", \"startYear\", \"genres\"]\n",
    "basics = basics[basics_columns]\n",
    "basics[\"startYear\"] = pd.to_numeric(basics[\"startYear\"], errors = \"coerce\").astype(\"Int64\")\n",
    "basics = basics.dropna(subset = [\"tconst\", \"primaryTitle\", \"startYear\"])\n",
    "print(basics.head())"
   ]
  },
  {
   "cell_type": "code",
   "execution_count": null,
   "id": "a86d81c6-6237-4405-8cc2-d50d424151f4",
   "metadata": {},
   "outputs": [],
   "source": [
    "crews = crews.replace(\"\\\\N\", np.nan)\n",
    "crews_columns = [\"tconst\", \"directors\", \"writers\"]\n",
    "crews = crews[crews_columns]\n",
    "crews = crews.dropna(subset = [\"directors\", \"writers\"], how = \"all\")\n",
    "crews = crews.dropna(subset = [\"tconst\"])\n",
    "print(crews.head())"
   ]
  },
  {
   "cell_type": "code",
   "execution_count": null,
   "id": "3a71b4c5-f4b6-49fc-9d36-96ed3a04a9f2",
   "metadata": {},
   "outputs": [],
   "source": [
    "principals = principals.replace(\"\\\\N\", np.nan)\n",
    "principals_columns = [\"tconst\", \"ordering\", \"nconst\", \"category\", \"job\", \"characters\"]\n",
    "principals = principals[principals_columns]\n",
    "principals = principals.dropna(subset = [\"tconst\", \"category\"])\n",
    "print(principals.head())"
   ]
  },
  {
   "cell_type": "code",
   "execution_count": null,
   "id": "0363464f-9251-441b-9975-fb6de31fd3a9",
   "metadata": {},
   "outputs": [],
   "source": [
    "ratings = ratings.replace(\"\\\\N\", np.nan)\n",
    "ratings_columns = [\"tconst\", \"averageRating\", \"numVotes\"]\n",
    "ratings = ratings[ratings_columns]\n",
    "ratings[\"numVotes\"] = pd.to_numeric(ratings[\"numVotes\"], errors = \"coerce\").astype(\"Int64\")\n",
    "ratings = ratings.dropna(subset = [\"tconst\", \"averageRating\", \"numVotes\"])\n",
    "print(ratings.head())"
   ]
  },
  {
   "cell_type": "code",
   "execution_count": null,
   "id": "55da763e-458c-4f90-81c6-75e750ead68b",
   "metadata": {},
   "outputs": [],
   "source": [
    "movies = pd.merge(basics, ratings, on = \"tconst\", how = \"left\")\n",
    "movies = pd.merge(movies, crews, on = \"tconst\", how = \"left\")\n",
    "get_name = dict(zip(names[\"nconst\"], names[\"primaryName\"]))\n",
    "movies[\"directorNames\"] = movies[\"directors\"].map(get_name)\n",
    "movies[\"writerNames\"] = movies[\"writers\"].map(get_name)\n",
    "movies_columns = [\"tconst\", \"primaryTitle\", \"startYear\", \"genres\", \"averageRating\", \"numVotes\", \"directorNames\", \"writerNames\"]\n",
    "movies = movies[movies_columns]\n",
    "cast = principals[principals[\"category\"].isin([\"actor\", \"actress\"])]\n",
    "cast = cast.merge(names[[\"nconst\", \"primaryName\"]], on = \"nconst\", how = \"left\")\n",
    "cast[\"ordering\"] = pd.to_numeric(cast[\"ordering\"], errors = \"coerce\")\n",
    "cast[\"ordering\"] = cast[\"ordering\"].astype(\"Int64\")\n",
    "top_cast = (cast.sort_values([\"tconst\", \"ordering\"]).groupby(\"tconst\").head(5).groupby(\"tconst\")[\"primaryName\"].apply(lambda names_list: \", \".join(str(name) for name in names_list if isinstance(name, str) and name.strip())).reset_index().rename(columns = {\"primaryName\": \"cast\"}))\n",
    "movies = movies.merge(top_cast, on = \"tconst\", how = \"left\")\n",
    "movies_sorted = movies\n",
    "movies_sorted.to_csv(\"clean_movies.csv\", index = False)\n",
    "print(movies_sorted.head())"
   ]
  },
  {
   "cell_type": "code",
   "execution_count": 7,
   "id": "2b8f135e-3531-4f16-ad22-d1f4eb74fde2",
   "metadata": {},
   "outputs": [
    {
     "name": "stdout",
     "output_type": "stream",
     "text": [
      "71844\n"
     ]
    }
   ],
   "source": [
    "movies_sorted = pd.read_csv(\"clean_movies.csv\")\n",
    "movies_sorted = movies_sorted[\n",
    "    (movies_sorted['startYear'] >= 1970) &\n",
    "    (movies_sorted['numVotes'] > 1000.0) &\n",
    "    (movies_sorted['averageRating'] >= 6.0)\n",
    "]\n",
    "print(len(movies_sorted))\n",
    "movies_sorted['description'] = (\n",
    "    \"Title: \" + movies_sorted['primaryTitle'].fillna('') + \n",
    "    \". Year: \" + movies_sorted['startYear'].astype(str) + \n",
    "    \". Genres: \" + movies_sorted['genres'].fillna('') + \n",
    "    \". Directed by: \" + movies_sorted['directorNames'].fillna('') + \n",
    "    \". Written by: \" + movies_sorted['writerNames'].fillna('') + \n",
    "    \". Cast: \" + movies_sorted['cast'].fillna('') + \n",
    "    \". IMDb Rating: \" + movies_sorted['averageRating'].astype(str)\n",
    ")\n",
    "movies_sorted.to_csv(\"clean_movies.csv\", index = False)"
   ]
  },
  {
   "cell_type": "code",
   "execution_count": 8,
   "id": "a04536bc-ca7c-4f8b-b2ad-092f07e3797d",
   "metadata": {},
   "outputs": [
    {
     "name": "stderr",
     "output_type": "stream",
     "text": [
      "Batches: 100%|██████████████████████████████| 1123/1123 [00:58<00:00, 19.07it/s]\n"
     ]
    }
   ],
   "source": [
    "df = pd.read_csv(\"clean_movies.csv\") # file\n",
    "model = SentenceTransformer('all-MiniLM-L6-v2') # embedding model\n",
    "descriptions = df['description'].fillna(\"\").tolist()\n",
    "embeddings = model.encode(descriptions, batch_size=64, show_progress_bar=True) # embeds description\n",
    "embedding_matrix = np.array(embeddings).astype(\"float32\") # embeddings to numpy array\n",
    "embedding_matrix = normalize(embedding_matrix, axis=1) # cosine similarity (based on content not length)\n",
    "index = faiss.IndexFlatIP(embedding_matrix.shape[1])\n",
    "index.add(embedding_matrix) # FAISS index for similarity search\n",
    "faiss.write_index(index, \"movie_index.faiss\") # save index for reuse"
   ]
  },
  {
   "cell_type": "code",
   "execution_count": 2,
   "id": "cb1010b3-f1ef-4708-a521-44c35c0eff07",
   "metadata": {},
   "outputs": [],
   "source": [
    "df = pd.read_csv(\"clean_movies.csv\") # load dataset\n",
    "model = SentenceTransformer('all-MiniLM-L6-v2') # load sentence transformer model\n",
    "index = faiss.read_index(\"movie_index.faiss\") # load FAISS index\n",
    "\n",
    "def search_movies(query, top_k=5):\n",
    "    query_embedding = model.encode([query]) # embeds query\n",
    "    query_embedding = normalize(np.array(query_embedding).astype(\"float32\"), axis=1) # normalizes\n",
    "    distances, indices = index.search(query_embedding, top_k) # searches\n",
    "    results = df.iloc[indices[0]] # closest results\n",
    "    return results\n",
    "\n",
    "def generate_answer(query, top_k=5):\n",
    "    results = search_movies(query, top_k) # movie search\n",
    "    context = \"\\n\\n\".join(results['description'].tolist()) # context for openai\n",
    "\n",
    "    prompt = f\"Answer the question based on the movie data below:\\n\\n{context}\\n\\nQuestion: {query}\" # prompt for model\n",
    "\n",
    "    response = openai.chat.completions.create(\n",
    "        model=\"gpt-4\", # model\n",
    "        messages=[{\"role\": \"user\", \"content\": prompt}] # message sent\n",
    "    )\n",
    "    return response.choices[0].message.content # response"
   ]
  },
  {
   "cell_type": "code",
   "execution_count": 7,
   "id": "30918f41-094c-4fa8-8302-c8024929d012",
   "metadata": {},
   "outputs": [
    {
     "name": "stdout",
     "output_type": "stream",
     "text": [
      "                                            primaryTitle  \\\n",
      "57151                               John Wick: Chapter 2   \n",
      "23254                               John Wick: Chapter 4   \n",
      "65500  Retro Wick: Exploring the Unexpected Success o...   \n",
      "49418                                          John Wick   \n",
      "65502                   John Wick Chapter 2: Wick-vizzed   \n",
      "\n",
      "                                             description  \n",
      "57151  Title: John Wick: Chapter 2. Year: 2017. Genre...  \n",
      "23254  Title: John Wick: Chapter 4. Year: 2023. Genre...  \n",
      "65500  Title: Retro Wick: Exploring the Unexpected Su...  \n",
      "49418  Title: John Wick. Year: 2014. Genres: Action,C...  \n",
      "65502  Title: John Wick Chapter 2: Wick-vizzed. Year:...  \n",
      "The best rated John Wick movie is \"John Wick Chapter 2: Wick-vizzed\" with an IMDb rating of 7.8.\n"
     ]
    }
   ],
   "source": [
    "query = \"What's the best rated John Wick movie?.\"\n",
    "movies_found = search_movies(query)\n",
    "print(movies_found[['primaryTitle', 'description']])\n",
    "\n",
    "answer = generate_answer(query)\n",
    "print(answer)"
   ]
  },
  {
   "cell_type": "code",
   "execution_count": null,
   "id": "743430ab-9657-4b42-bf61-453de0423fff",
   "metadata": {},
   "outputs": [],
   "source": []
  }
 ],
 "metadata": {
  "kernelspec": {
   "display_name": "Python 3.11",
   "language": "python",
   "name": "py311"
  },
  "language_info": {
   "codemirror_mode": {
    "name": "ipython",
    "version": 3
   },
   "file_extension": ".py",
   "mimetype": "text/x-python",
   "name": "python",
   "nbconvert_exporter": "python",
   "pygments_lexer": "ipython3",
   "version": "3.11.0"
  }
 },
 "nbformat": 4,
 "nbformat_minor": 5
}
